{
 "cells": [
  {
   "cell_type": "markdown",
   "metadata": {},
   "source": [
    "# =================== Assignment 3 ======================\n",
    "\n",
    "## Amazon Fine Food Reviews Analysis and KNN Classification\n",
    "\n",
    "​\n",
    "The Amazon Fine Food Reviews dataset consists of reviews of fine foods from Amazon.<br>\n",
    "​\n",
    "Number of reviews: 568,454<br>\n",
    "Number of users: 256,059<br>\n",
    "Number of products: 74,258<br>\n",
    "Timespan: Oct 1999 - Oct 2012<br>\n",
    "Number of Attributes/Columns in data: 10 \n",
    "​\n",
    "Attribute Information:\n",
    "​\n",
    "1. Id\n",
    "2. ProductId - unique identifier for the product\n",
    "3. UserId - unqiue identifier for the user\n",
    "4. ProfileName\n",
    "5. HelpfulnessNumerator - number of users who found the review helpful\n",
    "6. HelpfulnessDenominator - number of users who indicated whether they found the review helpful or not\n",
    "7. Score - rating between 1 and 5\n",
    "8. Time - timestamp for the review\n",
    "9. Summary - brief summary of the review\n",
    "10. Text - text of the review\n",
    "​\n",
    "\n",
    "#### Objective:\n",
    "Given a Review plot and determine KNN to find out more accurate 'K' point to classify data and Analyse the words, If related to Positive class or Negative class."
   ]
  },
  {
   "cell_type": "code",
   "execution_count": 1,
   "metadata": {},
   "outputs": [
    {
     "name": "stderr",
     "output_type": "stream",
     "text": [
      "C:\\Users\\Ghost\\Anaconda3\\lib\\site-packages\\gensim\\utils.py:1197: UserWarning: detected Windows; aliasing chunkize to chunkize_serial\n",
      "  warnings.warn(\"detected Windows; aliasing chunkize to chunkize_serial\")\n"
     ]
    }
   ],
   "source": [
    "# ============================== loading libraries ===========================================\n",
    "%matplotlib inline\n",
    "import warnings\n",
    "warnings.filterwarnings(\"ignore\")\n",
    "\n",
    "import string\n",
    "import pandas as pd\n",
    "import numpy as np\n",
    "import nltk\n",
    "import string\n",
    "import matplotlib.pyplot as plt\n",
    "import seaborn as sns\n",
    "import sklearn\n",
    "from sklearn.feature_extraction.text import TfidfTransformer\n",
    "from sklearn.feature_extraction.text import TfidfVectorizer\n",
    "from sklearn.feature_extraction.text import CountVectorizer\n",
    "from sklearn.manifold import TSNE\n",
    "\n",
    "import string\n",
    "from nltk.corpus import stopwords\n",
    "from nltk.stem import PorterStemmer\n",
    "from nltk.stem.wordnet import WordNetLemmatizer\n",
    "from sklearn.model_selection import train_test_split\n",
    "\n",
    "import re\n",
    "\n",
    "import sqlite3\n",
    "\n",
    "\n",
    "import numpy as np\n",
    "import pandas as pd\n",
    "import seaborn as sns\n",
    "import matplotlib.pyplot as plt\n",
    "from sklearn.neighbors import KNeighborsClassifier\n",
    "from sklearn.metrics import accuracy_score\n",
    "from sklearn.model_selection import cross_val_score\n",
    "from collections import Counter\n",
    "from tqdm import tqdm\n",
    "from sklearn.metrics import accuracy_score\n",
    "from sklearn.model_selection import train_test_split\n",
    "from sklearn.metrics import classification_report, confusion_matrix\n",
    "from gensim.models import Word2Vec\n",
    "from gensim.models import KeyedVectors\n",
    "import pickle\n",
    "# ============================================================================================="
   ]
  },
  {
   "cell_type": "code",
   "execution_count": 2,
   "metadata": {},
   "outputs": [
    {
     "name": "stdout",
     "output_type": "stream",
     "text": [
      "Shape of Amzn Dataframe : (525814, 10)\n",
      "\n",
      "\n",
      "Head(2) of Amzn Dataframe\n",
      "**************************\n"
     ]
    },
    {
     "data": {
      "text/html": [
       "<div>\n",
       "<style scoped>\n",
       "    .dataframe tbody tr th:only-of-type {\n",
       "        vertical-align: middle;\n",
       "    }\n",
       "\n",
       "    .dataframe tbody tr th {\n",
       "        vertical-align: top;\n",
       "    }\n",
       "\n",
       "    .dataframe thead th {\n",
       "        text-align: right;\n",
       "    }\n",
       "</style>\n",
       "<table border=\"1\" class=\"dataframe\">\n",
       "  <thead>\n",
       "    <tr style=\"text-align: right;\">\n",
       "      <th></th>\n",
       "      <th>Id</th>\n",
       "      <th>ProductId</th>\n",
       "      <th>UserId</th>\n",
       "      <th>ProfileName</th>\n",
       "      <th>HelpfulnessNumerator</th>\n",
       "      <th>HelpfulnessDenominator</th>\n",
       "      <th>Score</th>\n",
       "      <th>Time</th>\n",
       "      <th>Summary</th>\n",
       "      <th>Text</th>\n",
       "    </tr>\n",
       "  </thead>\n",
       "  <tbody>\n",
       "    <tr>\n",
       "      <th>0</th>\n",
       "      <td>1</td>\n",
       "      <td>B001E4KFG0</td>\n",
       "      <td>A3SGXH7AUHU8GW</td>\n",
       "      <td>delmartian</td>\n",
       "      <td>1</td>\n",
       "      <td>1</td>\n",
       "      <td>5</td>\n",
       "      <td>1303862400</td>\n",
       "      <td>Good Quality Dog Food</td>\n",
       "      <td>I have bought several of the Vitality canned d...</td>\n",
       "    </tr>\n",
       "    <tr>\n",
       "      <th>1</th>\n",
       "      <td>2</td>\n",
       "      <td>B00813GRG4</td>\n",
       "      <td>A1D87F6ZCVE5NK</td>\n",
       "      <td>dll pa</td>\n",
       "      <td>0</td>\n",
       "      <td>0</td>\n",
       "      <td>1</td>\n",
       "      <td>1346976000</td>\n",
       "      <td>Not as Advertised</td>\n",
       "      <td>Product arrived labeled as Jumbo Salted Peanut...</td>\n",
       "    </tr>\n",
       "  </tbody>\n",
       "</table>\n",
       "</div>"
      ],
      "text/plain": [
       "   Id   ProductId          UserId ProfileName  HelpfulnessNumerator  \\\n",
       "0   1  B001E4KFG0  A3SGXH7AUHU8GW  delmartian                     1   \n",
       "1   2  B00813GRG4  A1D87F6ZCVE5NK      dll pa                     0   \n",
       "\n",
       "   HelpfulnessDenominator  Score        Time                Summary  \\\n",
       "0                       1      5  1303862400  Good Quality Dog Food   \n",
       "1                       0      1  1346976000      Not as Advertised   \n",
       "\n",
       "                                                Text  \n",
       "0  I have bought several of the Vitality canned d...  \n",
       "1  Product arrived labeled as Jumbo Salted Peanut...  "
      ]
     },
     "execution_count": 2,
     "metadata": {},
     "output_type": "execute_result"
    }
   ],
   "source": [
    "con = sqlite3.connect('database.sqlite') \n",
    "amzn = pd.read_sql_query(\"\"\" SELECT * FROM Reviews WHERE Score != 3 \"\"\", con)\n",
    "print(\"Shape of Amzn Dataframe :\",amzn.shape)\n",
    "print(\"\\n\")\n",
    "print(\"Head(2) of Amzn Dataframe\")\n",
    "print(\"**************************\")\n",
    "amzn.head(2)"
   ]
  },
  {
   "cell_type": "markdown",
   "metadata": {},
   "source": [
    "**Function to impute the review to -1- \"Positive\" (Rating of 4 or 5) or -0- \"Negative\" (rating of 1 or 2).**"
   ]
  },
  {
   "cell_type": "code",
   "execution_count": 3,
   "metadata": {},
   "outputs": [],
   "source": [
    "def part(data):\n",
    "    if data > 3:\n",
    "        return 1\n",
    "    else:\n",
    "        return 0"
   ]
  },
  {
   "cell_type": "markdown",
   "metadata": {},
   "source": [
    "**Applying Function to Amazon['Score'] factor**"
   ]
  },
  {
   "cell_type": "code",
   "execution_count": 4,
   "metadata": {},
   "outputs": [],
   "source": [
    "amzn['Score'] = amzn['Score'].map(part)"
   ]
  },
  {
   "cell_type": "code",
   "execution_count": 5,
   "metadata": {},
   "outputs": [
    {
     "data": {
      "text/html": [
       "<div>\n",
       "<style scoped>\n",
       "    .dataframe tbody tr th:only-of-type {\n",
       "        vertical-align: middle;\n",
       "    }\n",
       "\n",
       "    .dataframe tbody tr th {\n",
       "        vertical-align: top;\n",
       "    }\n",
       "\n",
       "    .dataframe thead th {\n",
       "        text-align: right;\n",
       "    }\n",
       "</style>\n",
       "<table border=\"1\" class=\"dataframe\">\n",
       "  <thead>\n",
       "    <tr style=\"text-align: right;\">\n",
       "      <th></th>\n",
       "      <th>Id</th>\n",
       "      <th>ProductId</th>\n",
       "      <th>UserId</th>\n",
       "      <th>ProfileName</th>\n",
       "      <th>HelpfulnessNumerator</th>\n",
       "      <th>HelpfulnessDenominator</th>\n",
       "      <th>Score</th>\n",
       "      <th>Time</th>\n",
       "      <th>Summary</th>\n",
       "      <th>Text</th>\n",
       "    </tr>\n",
       "  </thead>\n",
       "  <tbody>\n",
       "    <tr>\n",
       "      <th>0</th>\n",
       "      <td>1</td>\n",
       "      <td>B001E4KFG0</td>\n",
       "      <td>A3SGXH7AUHU8GW</td>\n",
       "      <td>delmartian</td>\n",
       "      <td>1</td>\n",
       "      <td>1</td>\n",
       "      <td>1</td>\n",
       "      <td>1303862400</td>\n",
       "      <td>Good Quality Dog Food</td>\n",
       "      <td>I have bought several of the Vitality canned d...</td>\n",
       "    </tr>\n",
       "    <tr>\n",
       "      <th>1</th>\n",
       "      <td>2</td>\n",
       "      <td>B00813GRG4</td>\n",
       "      <td>A1D87F6ZCVE5NK</td>\n",
       "      <td>dll pa</td>\n",
       "      <td>0</td>\n",
       "      <td>0</td>\n",
       "      <td>0</td>\n",
       "      <td>1346976000</td>\n",
       "      <td>Not as Advertised</td>\n",
       "      <td>Product arrived labeled as Jumbo Salted Peanut...</td>\n",
       "    </tr>\n",
       "  </tbody>\n",
       "</table>\n",
       "</div>"
      ],
      "text/plain": [
       "   Id   ProductId          UserId ProfileName  HelpfulnessNumerator  \\\n",
       "0   1  B001E4KFG0  A3SGXH7AUHU8GW  delmartian                     1   \n",
       "1   2  B00813GRG4  A1D87F6ZCVE5NK      dll pa                     0   \n",
       "\n",
       "   HelpfulnessDenominator  Score        Time                Summary  \\\n",
       "0                       1      1  1303862400  Good Quality Dog Food   \n",
       "1                       0      0  1346976000      Not as Advertised   \n",
       "\n",
       "                                                Text  \n",
       "0  I have bought several of the Vitality canned d...  \n",
       "1  Product arrived labeled as Jumbo Salted Peanut...  "
      ]
     },
     "execution_count": 5,
     "metadata": {},
     "output_type": "execute_result"
    }
   ],
   "source": [
    "amzn.head(2)"
   ]
  },
  {
   "cell_type": "markdown",
   "metadata": {},
   "source": [
    "**Taking 1000-1000 of Positive and Negative observation out of 500k as Machine is Slow for further analysis**"
   ]
  },
  {
   "cell_type": "code",
   "execution_count": 6,
   "metadata": {},
   "outputs": [
    {
     "name": "stdout",
     "output_type": "stream",
     "text": [
      "Shape of Amazon Dataframe : (525814, 10)\n"
     ]
    }
   ],
   "source": [
    "#Positive = amzn[amzn['Score'] == 1].head(1000)\n",
    "#Negative = amzn[amzn['Score'] == 0].head(1000)\n",
    "#combined = [Positive,Negative]\n",
    "#amazon = pd.concat(combined)\n",
    "#amazon = sklearn.utils.shuffle(amazon)\n",
    "print(\"Shape of Amazon Dataframe :\",amzn.shape)"
   ]
  },
  {
   "cell_type": "markdown",
   "metadata": {},
   "source": [
    "# Data Preprocessing"
   ]
  },
  {
   "cell_type": "markdown",
   "metadata": {},
   "source": [
    "**Checking how many observations have Duplicated values in dataset with Variables['UserId','ProfileName','Score','Time']**"
   ]
  },
  {
   "cell_type": "code",
   "execution_count": 7,
   "metadata": {},
   "outputs": [
    {
     "name": "stdout",
     "output_type": "stream",
     "text": [
      "192811\n"
     ]
    }
   ],
   "source": [
    "print(amzn.duplicated(subset=['UserId','ProfileName','Score','Time']).sum())"
   ]
  },
  {
   "cell_type": "markdown",
   "metadata": {},
   "source": [
    "**Dropping Duplicated values and keeping only first occuring observation in dataset**"
   ]
  },
  {
   "cell_type": "code",
   "execution_count": 8,
   "metadata": {},
   "outputs": [],
   "source": [
    "amzn = amzn.drop_duplicates(subset=['UserId','ProfileName','Score','Time'], keep='first')"
   ]
  },
  {
   "cell_type": "code",
   "execution_count": 9,
   "metadata": {},
   "outputs": [
    {
     "name": "stdout",
     "output_type": "stream",
     "text": [
      "0\n"
     ]
    }
   ],
   "source": [
    "print(amzn.duplicated().sum())"
   ]
  },
  {
   "cell_type": "markdown",
   "metadata": {},
   "source": [
    "**Cross checking for missing data in Dataset**"
   ]
  },
  {
   "cell_type": "code",
   "execution_count": 10,
   "metadata": {},
   "outputs": [
    {
     "data": {
      "text/plain": [
       "Id                        0\n",
       "ProductId                 0\n",
       "UserId                    0\n",
       "ProfileName               0\n",
       "HelpfulnessNumerator      0\n",
       "HelpfulnessDenominator    0\n",
       "Score                     0\n",
       "Time                      0\n",
       "Summary                   0\n",
       "Text                      0\n",
       "dtype: int64"
      ]
     },
     "execution_count": 10,
     "metadata": {},
     "output_type": "execute_result"
    }
   ],
   "source": [
    "amzn.isnull().sum()"
   ]
  },
  {
   "cell_type": "markdown",
   "metadata": {},
   "source": [
    "**The value of HelpfulnessNumerator is greater than HelpfulnessDenominator which is not practically possible, So Going to keep all the observations which have HelpfulnessNumerator is less than or Equal to HelpfulnessDenominator.**"
   ]
  },
  {
   "cell_type": "code",
   "execution_count": 11,
   "metadata": {},
   "outputs": [],
   "source": [
    "amzn = amzn[amzn['HelpfulnessNumerator'] <= amzn['HelpfulnessDenominator']]"
   ]
  },
  {
   "cell_type": "code",
   "execution_count": 12,
   "metadata": {},
   "outputs": [
    {
     "name": "stdout",
     "output_type": "stream",
     "text": [
      "(333001, 10)\n",
      "1    277625\n",
      "0     55376\n",
      "Name: Score, dtype: int64\n"
     ]
    },
    {
     "data": {
      "text/plain": [
       "<matplotlib.axes._subplots.AxesSubplot at 0x2337ac59e48>"
      ]
     },
     "execution_count": 12,
     "metadata": {},
     "output_type": "execute_result"
    },
    {
     "data": {
      "image/png": "[encoded data removed]",
      "text/plain": [
       "<Figure size 432x288 with 1 Axes>"
      ]
     },
     "metadata": {
      "needs_background": "light"
     },
     "output_type": "display_data"
    }
   ],
   "source": [
    "#Before starting the next phase of preprocessing lets see the number of entries left\n",
    "print(amzn.shape)\n",
    "\n",
    "#How many positive and negative reviews are present in our dataset?\n",
    "class_bal = amzn['Score'].value_counts()\n",
    "print(class_bal)\n",
    "\n",
    "#Plotting barplot for target variable to compare balance between them.\n",
    "sns.barplot(class_bal.index, class_bal.values, palette=\"rainbow\")"
   ]
  },
  {
   "cell_type": "markdown",
   "metadata": {},
   "source": [
    "**Function which will**\n",
    "\n",
    "1] Remove all html sets of sentences from reviews\n",
    "\n",
    "2] Remove all punctuation present in reviews as are not necessary for analysis and modeling"
   ]
  },
  {
   "cell_type": "code",
   "execution_count": 13,
   "metadata": {},
   "outputs": [],
   "source": [
    "stop = set(stopwords.words('english'))\n",
    "sno = nltk.stem.SnowballStemmer('english') #initialising the snowball stemmer\n",
    "\n",
    "def cleanhtml(sentence): #function to clean the word of any html-tags\n",
    "    cleanr = re.compile('<.*?>')\n",
    "    cleantext = re.sub(cleanr, ' ', sentence)\n",
    "    return cleantext\n",
    "\n",
    "def cleanpunc(sentence): #function to clean the word of any punctuation or special characters\n",
    "    cleaned = re.sub(r'[?|!|\\'|\"|#]',r'',sentence)\n",
    "    cleaned = re.sub(r'[.|,|)|(|\\|/]',r' ',cleaned)\n",
    "    return  cleaned"
   ]
  },
  {
   "cell_type": "markdown",
   "metadata": {},
   "source": [
    "**Code Working**\n",
    "\n",
    "1] Remove HTMl tags\n",
    "\n",
    "2] Split the reviews\n",
    "\n",
    "3] Converting reviews to lower case\n",
    "\n",
    "4] Removing Stop words\n",
    "\n",
    "5] Storing of all words used to describe positive reviews and negative reviews."
   ]
  },
  {
   "cell_type": "code",
   "execution_count": 14,
   "metadata": {},
   "outputs": [],
   "source": [
    "#Code for implementing step-by-step the checks mentioned in the pre-processing phase\n",
    "i=0\n",
    "str1=' '\n",
    "final_string=[]\n",
    "all_positive_words=[] # store words from +ve reviews here\n",
    "all_negative_words=[] # store words from -ve reviews here.\n",
    "s=''\n",
    "\n",
    "\n",
    "for sent in amzn['Text'].values:\n",
    "    filtered_sentence=[]\n",
    "    #print(sent);\n",
    "    sent=cleanhtml(sent) # remove HTMl tags\n",
    "    for w in sent.split():\n",
    "        for cleaned_words in cleanpunc(w).split():\n",
    "            if((cleaned_words.isalpha()) & (len(cleaned_words)>2)):    \n",
    "                if(cleaned_words.lower() not in stop):\n",
    "                    s=(sno.stem(cleaned_words.lower()))\n",
    "                    filtered_sentence.append(s)\n",
    "                    if (amzn['Score'].values)[i] == 1: \n",
    "                        all_positive_words.append(s) #list of all words used to describe positive reviews\n",
    "                    if(amzn['Score'].values)[i] == 0:\n",
    "                        all_negative_words.append(s) #list of all words used to describe negative reviews reviews\n",
    "                else:\n",
    "                    continue\n",
    "            else:\n",
    "                continue \n",
    "    str1 = \" \".join(filtered_sentence) #final string of cleaned words\n",
    "    \n",
    "    final_string.append(str1)\n",
    "    i+=1"
   ]
  },
  {
   "cell_type": "markdown",
   "metadata": {},
   "source": [
    "**Adding a column of CleanedText which displays the data after pre-processing of the review**"
   ]
  },
  {
   "cell_type": "code",
   "execution_count": 15,
   "metadata": {},
   "outputs": [
    {
     "name": "stdout",
     "output_type": "stream",
     "text": [
      "            Id   ProductId         UserId         ProfileName  \\\n",
      "138706  150524  0006641040  ACITT7DI6IDDL     shari zychinski   \n",
      "138683  150501  0006641040  AJ46FKXOVC7NR  Nicholas A Mesiano   \n",
      "\n",
      "        HelpfulnessNumerator  HelpfulnessDenominator  Score       Time  \\\n",
      "138706                     0                       0      1  939340800   \n",
      "138683                     2                       2      1  940809600   \n",
      "\n",
      "                                                  Summary  \\\n",
      "138706                          EVERY book is educational   \n",
      "138683  This whole series is great way to spend time w...   \n",
      "\n",
      "                                                     Text  \\\n",
      "138706  this witty little book makes my son laugh at l...   \n",
      "138683  I can remember seeing the show when it aired o...   \n",
      "\n",
      "                                              CleanedText  \n",
      "138706  witti littl book make son laugh loud recit car...  \n",
      "138683  rememb see show air televis year ago child sis...  \n"
     ]
    }
   ],
   "source": [
    "amzn['CleanedText'] = final_string\n",
    "amzn = amzn.sort_values('Time')\n",
    "print(amzn.head(2))"
   ]
  },
  {
   "cell_type": "markdown",
   "metadata": {},
   "source": [
    "**Taking Sample of 5000 Observation after preprocess of data and after sorting all the data.**\n",
    "\n",
    "##### Taking Sample of 5000 because Machine is Not responding if taking large sample of dataset or getting \"Memory Error\"."
   ]
  },
  {
   "cell_type": "code",
   "execution_count": 16,
   "metadata": {},
   "outputs": [
    {
     "name": "stdout",
     "output_type": "stream",
     "text": [
      "(50000, 11)\n"
     ]
    }
   ],
   "source": [
    "amazon = amzn.head(50000)\n",
    "print(amazon.shape)"
   ]
  },
  {
   "cell_type": "code",
   "execution_count": 17,
   "metadata": {},
   "outputs": [],
   "source": [
    "amazon.head(2)\n",
    "from sklearn.metrics import accuracy_score"
   ]
  },
  {
   "cell_type": "markdown",
   "metadata": {},
   "source": [
    "**Spliting data to train and test as 80-20 for further steps and analysis**"
   ]
  },
  {
   "cell_type": "code",
   "execution_count": 18,
   "metadata": {},
   "outputs": [
    {
     "name": "stdout",
     "output_type": "stream",
     "text": [
      "Text:   40000 10000 50000\n",
      "Score:  40000 10000 50000\n"
     ]
    }
   ],
   "source": [
    "X_train, X_test, y_train, y_test = train_test_split(amazon['CleanedText'], amazon['Score'], test_size=0.2)\n",
    "\n",
    "print(\"Text:  \",len(X_train), len(X_test), len(X_train) + len(X_test))\n",
    "print(\"Score: \",len(y_train), len(y_test), len(y_train) + len(y_test))"
   ]
  },
  {
   "cell_type": "markdown",
   "metadata": {},
   "source": [
    "# Functions to call again and again whenever needed"
   ]
  },
  {
   "cell_type": "markdown",
   "metadata": {},
   "source": [
    "**Function takes Train and test data to find better K value with Less Error or With Better Accuracy**"
   ]
  },
  {
   "cell_type": "code",
   "execution_count": 19,
   "metadata": {},
   "outputs": [],
   "source": [
    "from sklearn.model_selection import GridSearchCV"
   ]
  },
  {
   "cell_type": "markdown",
   "metadata": {},
   "source": [
    "**Function for GridSearchCV and K optimal using different K so dont need to execute code again and again and when necessary can be called**"
   ]
  },
  {
   "cell_type": "code",
   "execution_count": 20,
   "metadata": {},
   "outputs": [],
   "source": [
    "def best_K_train_test(X_train, y_train, X_test, y_test):\n",
    "    for i in range(1,12,2):\n",
    "        # instantiate learning model (k = 12)\n",
    "        knn = KNeighborsClassifier(n_neighbors=i, algorithm= 'brute')\n",
    "\n",
    "        # fitting the model on crossvalidation train\n",
    "        knn.fit(X_train, y_train)\n",
    "        \n",
    "        # predict the response on the crossvalidation train\n",
    "        pred = knn.predict(X_test)\n",
    "\n",
    "        # evaluate CV accuracy\n",
    "        acc = accuracy_score(y_test, pred, normalize=True) * float(100)\n",
    "        print(\"=========================================\")\n",
    "        print('CV accuracy for k = %d is %d%%' % (i, acc))\n",
    "        print(\"=========================================\")\n",
    "        \n",
    "\n",
    "        \n",
    "def Grid_CV(X_train, y_train): \n",
    "    params = [{'n_neighbors':[5,7,9,11]}]\n",
    "    tuned_classifier = KNeighborsClassifier(algorithm= 'brute')\n",
    "    grid_search = GridSearchCV(estimator=tuned_classifier, param_grid=params, scoring = 'f1', cv = 3)\n",
    "    grid_search = grid_search.fit(X_train, y_train)\n",
    "    print(\"Grid Search CV Best 'K' Parameter\")        \n",
    "    print(\"=================================\")\n",
    "    print(grid_search.best_params_)"
   ]
  },
  {
   "cell_type": "markdown",
   "metadata": {},
   "source": [
    "**Function to  Plot K and Error based on Cross Validate of Train data to find optimal K for Model where Cross Validation Cv=3 and K=3,5,7,9,11**"
   ]
  },
  {
   "cell_type": "code",
   "execution_count": 21,
   "metadata": {},
   "outputs": [],
   "source": [
    "def crossval_error_plot(X_train, y_train):\n",
    "    \n",
    "    # creating odd list of K for KNN\n",
    "    neighbors = [3,5,7,9,11]\n",
    "\n",
    "    # empty list that will hold cv scores\n",
    "    cv_scores = []\n",
    "\n",
    "    # perform 10-fold cross validation\n",
    "    for k in neighbors:\n",
    "        knn = KNeighborsClassifier(n_neighbors=k, algorithm= 'brute')\n",
    "        scores = cross_val_score(knn, X_train, y_train, cv=3, scoring='accuracy')\n",
    "        cv_scores.append(scores.mean())\n",
    "\n",
    "    # changing to misclassification error\n",
    "    MSE = [1 - x for x in cv_scores]\n",
    "\n",
    "    # determining best k\n",
    "    optimal_k = neighbors[MSE.index(min(MSE))]\n",
    "    print('\\nThe optimal number of neighbors is %d.' % optimal_k)\n",
    "\n",
    "    # plot misclassification error vs k \n",
    "    plt.plot(neighbors, MSE)\n",
    "\n",
    "    for xy in zip(neighbors, np.round(MSE,3)):\n",
    "        plt.annotate('(%s, %s)' % xy, xy=xy, textcoords='data')\n",
    "\n",
    "    plt.xlabel('Number of Neighbors K')\n",
    "    plt.ylabel('Misclassification Error')\n",
    "    plt.show()\n",
    "\n",
    "    print(\"the misclassification error for each k value is : \", np.round(MSE,3))\n",
    "    print(\"CV Scores: \",cv_scores)"
   ]
  },
  {
   "cell_type": "markdown",
   "metadata": {},
   "source": [
    "**Function to print Accuracy, Confusion Matrix based on Performance**"
   ]
  },
  {
   "cell_type": "code",
   "execution_count": 22,
   "metadata": {},
   "outputs": [],
   "source": [
    "def fit_predict_performance_CM_CV(classifier, X_train, y_train, X_test, y_test):\n",
    "    classifier.fit(X_train, y_train)\n",
    "    prediction = classifier.predict(X_test)\n",
    "    \n",
    "    cv_perfor = cross_val_score(estimator=classifier, X=X_train, y=y_train, cv=3)\n",
    "    k_fold_performance = cv_perfor.mean()\n",
    "    \n",
    "    print(\"K-fold cross validation score of model for k = 3 is :\")\n",
    "    print(k_fold_performance * float(100))\n",
    "    print(\"====================================\")\n",
    "    print(\"====================================\")\n",
    "    print()\n",
    "    \n",
    "    print(\"Correct Classified Data Point: \",accuracy_score(y_test, prediction, normalize=False))\n",
    "    print()\n",
    "    print(\"Correct % Classified Data Point: \",accuracy_score(y_test, prediction) * 100 ,\"%\")\n",
    "    print(\"====================================\")\n",
    "    print()\n",
    "    \n",
    "    print(\"====== Confusion matrix ======= \")\n",
    "    cm = confusion_matrix(y_test,prediction)\n",
    "    print(cm)\n",
    "    \n",
    "\n",
    "    df_CM = pd.DataFrame(cm)\n",
    "    print(\"Confusion Matrix\")\n",
    "    print(\"==================\")\n",
    "    print(df_CM)\n",
    "    print(\"==================\")\n",
    "    fig = plt.figure()\n",
    "    sns.heatmap(df_CM, annot=True, fmt=\"d\")\n",
    "    plt.ylabel('True label')\n",
    "    plt.xlabel('Predicted label')\n",
    "    "
   ]
  },
  {
   "cell_type": "markdown",
   "metadata": {},
   "source": [
    "**Function takes train data to find best K value based on Cross validation on Train data**"
   ]
  },
  {
   "cell_type": "markdown",
   "metadata": {},
   "source": [
    "**Storing Y values to \"y_train\" & \"y_test\" for further prediction and analysis**"
   ]
  },
  {
   "cell_type": "code",
   "execution_count": 23,
   "metadata": {},
   "outputs": [],
   "source": [
    "y_train = y_train.values\n",
    "y_test = y_test.values"
   ]
  },
  {
   "cell_type": "markdown",
   "metadata": {},
   "source": [
    "# Bag Of Words(BoW), KNN"
   ]
  },
  {
   "cell_type": "markdown",
   "metadata": {},
   "source": [
    "**Creating Bag of words using CountVectorizer() function and printing Shape of same and Unique words present in reviews**"
   ]
  },
  {
   "cell_type": "code",
   "execution_count": 24,
   "metadata": {},
   "outputs": [
    {
     "name": "stdout",
     "output_type": "stream",
     "text": [
      "Shape of BOW vectorizer:  (40000, 24431) (10000, 24431)\n",
      "Number of unique words in 'Bow_X_train':  24431\n",
      "Number of unique words in 'Bow_X_test':  24431\n"
     ]
    }
   ],
   "source": [
    "#BoW\n",
    "CV = CountVectorizer() #in scikit-learn\n",
    "Bow_X_train = CV.fit_transform(X_train)\n",
    "Bow_X_test = CV.transform(X_test)\n",
    "print(\"Shape of BOW vectorizer: \",Bow_X_train.get_shape(), Bow_X_test.get_shape())\n",
    "print(\"Number of unique words in 'Bow_X_train': \", Bow_X_train.get_shape()[1])\n",
    "print(\"Number of unique words in 'Bow_X_test': \", Bow_X_test.get_shape()[1])"
   ]
  },
  {
   "cell_type": "markdown",
   "metadata": {},
   "source": [
    "**Calling classifier function with \"Bow_X_train, y_train, Bow_X_test, y_test\" for better K with Highest accuracy for BOW**"
   ]
  },
  {
   "cell_type": "code",
   "execution_count": 25,
   "metadata": {},
   "outputs": [
    {
     "name": "stdout",
     "output_type": "stream",
     "text": [
      "=========================================\n",
      "CV accuracy for k = 1 is 84%\n",
      "=========================================\n",
      "=========================================\n",
      "CV accuracy for k = 3 is 86%\n",
      "=========================================\n",
      "=========================================\n",
      "CV accuracy for k = 5 is 87%\n",
      "=========================================\n",
      "=========================================\n",
      "CV accuracy for k = 7 is 87%\n",
      "=========================================\n",
      "=========================================\n",
      "CV accuracy for k = 9 is 87%\n",
      "=========================================\n",
      "=========================================\n",
      "CV accuracy for k = 11 is 87%\n",
      "=========================================\n"
     ]
    }
   ],
   "source": [
    "best_K_train_test(Bow_X_train, y_train, Bow_X_test, y_test)"
   ]
  },
  {
   "cell_type": "code",
   "execution_count": 148,
   "metadata": {},
   "outputs": [
    {
     "name": "stdout",
     "output_type": "stream",
     "text": [
      "Grid Search CV Best 'K' Parameter\n",
      "=================================\n",
      "{'n_neighbors': 11}\n"
     ]
    }
   ],
   "source": [
    "Grid_CV(Bow_X_train, y_train)"
   ]
  },
  {
   "cell_type": "code",
   "execution_count": 143,
   "metadata": {},
   "outputs": [
    {
     "name": "stdout",
     "output_type": "stream",
     "text": [
      "\n",
      "The optimal number of neighbors is 9.\n"
     ]
    },
    {
     "data": {
      "image/png": "[encoded data removed]",
      "text/plain": [
       "<Figure size 432x288 with 1 Axes>"
      ]
     },
     "metadata": {
      "needs_background": "light"
     },
     "output_type": "display_data"
    },
    {
     "name": "stdout",
     "output_type": "stream",
     "text": [
      "the misclassification error for each k value is :  [0.129 0.119 0.117 0.116 0.117]\n",
      "CV Scores:  [0.8712503023315046, 0.8810750548499726, 0.8829249961037536, 0.8835249848547848, 0.883449997979363]\n"
     ]
    }
   ],
   "source": [
    "crossval_error_plot(Bow_X_train, y_train)"
   ]
  },
  {
   "cell_type": "code",
   "execution_count": 27,
   "metadata": {},
   "outputs": [
    {
     "name": "stdout",
     "output_type": "stream",
     "text": [
      "K-fold cross validation score of model for k = 3 is :\n",
      "88.3299990479363\n",
      "====================================\n",
      "====================================\n",
      "\n",
      "Correct Classified Data Point:  8752\n",
      "\n",
      "Correct % Classified Data Point:  87.52 %\n",
      "====================================\n",
      "\n",
      "====== Confusion matrix ======= \n",
      "[[  69 1185]\n",
      " [  63 8683]]\n",
      "Confusion Matrix\n",
      "==================\n",
      "    0     1\n",
      "0  69  1185\n",
      "1  63  8683\n",
      "==================\n"
     ]
    },
    {
     "data": {
      "image/png": "[encoded data removed]",
      "text/plain": [
       "<Figure size 432x288 with 2 Axes>"
      ]
     },
     "metadata": {
      "needs_background": "light"
     },
     "output_type": "display_data"
    }
   ],
   "source": [
    "classifier = KNeighborsClassifier(n_neighbors=5, algorithm= 'brute')\n",
    "fit_predict_performance_CM_CV(classifier,Bow_X_train, y_train, Bow_X_test, y_test)"
   ]
  },
  {
   "cell_type": "code",
   "execution_count": 26,
   "metadata": {},
   "outputs": [
    {
     "name": "stdout",
     "output_type": "stream",
     "text": [
      "K-fold cross validation score of model for k = 3 is :\n",
      "88.34749798548475\n",
      "====================================\n",
      "====================================\n",
      "\n",
      "Correct Classified Data Point:  8762\n",
      "\n",
      "Correct % Classified Data Point:  87.62 %\n",
      "====================================\n",
      "\n",
      "====== Confusion matrix ======= \n",
      "[[  32 1222]\n",
      " [  16 8730]]\n",
      "Confusion Matrix\n",
      "==================\n",
      "    0     1\n",
      "0  32  1222\n",
      "1  16  8730\n",
      "==================\n"
     ]
    },
    {
     "data": {
      "image/png": "[encoded data removed]",
      "text/plain": [
       "<Figure size 432x288 with 2 Axes>"
      ]
     },
     "metadata": {
      "needs_background": "light"
     },
     "output_type": "display_data"
    }
   ],
   "source": [
    "classifier = KNeighborsClassifier(n_neighbors=9, algorithm= 'brute')\n",
    "fit_predict_performance_CM_CV(classifier,Bow_X_train, y_train, Bow_X_test, y_test)"
   ]
  },
  {
   "cell_type": "markdown",
   "metadata": {},
   "source": [
    "**Most Frequent Words in Postive and Negative reviews**"
   ]
  },
  {
   "cell_type": "code",
   "execution_count": 201,
   "metadata": {},
   "outputs": [
    {
     "name": "stdout",
     "output_type": "stream",
     "text": [
      "Most Common Positive Words :  [('like', 124538), ('tast', 115988), ('good', 100085), ('flavor', 96603), ('love', 96593), ('use', 93419), ('great', 92881), ('one', 87018), ('product', 82702), ('tri', 79105)]\n",
      "Most Common Negative Words :  [('tast', 33462), ('like', 31239), ('product', 27149), ('one', 19931), ('flavor', 18845), ('would', 17374), ('tri', 17159), ('use', 14732), ('good', 14517), ('coffe', 14419)]\n"
     ]
    }
   ],
   "source": [
    "freq_positive_dist=nltk.FreqDist(all_positive_words)\n",
    "freq_negative_dist=nltk.FreqDist(all_negative_words)\n",
    "print(\"Most Common Positive Words : \",freq_positive_dist.most_common(10))\n",
    "print(\"Most Common Negative Words : \",freq_negative_dist.most_common(10))"
   ]
  },
  {
   "cell_type": "markdown",
   "metadata": {},
   "source": [
    "**========================================================================================================================++========**\n",
    "\n",
    "**Observation on BoW KNN:**\n",
    "\n",
    "1] As Most of the data as per review is imbalanced have 1 as Rated score.\n",
    "\n",
    "2] After implementing KNN with different algorithms and GridSearch CV, we can observe that 5 and 9 came out to be optimal K value to implement KNN on given Bag of words where as Graph for error presented 9 as Better K for KNN which has more similar error to K = 11\n",
    "\n",
    "3] KNN is working well compare to Test implementation that is almost approx to CV accuracy where,\n",
    "\n",
    "CV Accuracy = 88.3%  With K(CV) = 3\n",
    "Test Accuracy With K = 5 is 87.52 % Where K = 11 have 87.62% Accuracy that is not much of difference and It is better to Choose K = 5 for BoW \n",
    "\n",
    "So It seems that our Bow KNN is working good but as Train and test data accuracy have little variation that lead to over fitting of data as our data is Imbalanced.\n",
    "\n",
    "\n",
    "As we can observe, Here on Confusion matrix 8762 points out of 10000 from test Data has been classified correctly but Most Data have been classified to Positive and still have 88% of accuracy that explains the variation on Imbalanced Data in our dataset sample and Model have biased.\n",
    "\n",
    "**==========================================================================================================++======================**"
   ]
  },
  {
   "cell_type": "markdown",
   "metadata": {},
   "source": [
    "# Tf-idf KNN"
   ]
  },
  {
   "cell_type": "markdown",
   "metadata": {},
   "source": [
    "**Tfidf and finding Shape of data and Unique words in Dataframe**"
   ]
  },
  {
   "cell_type": "code",
   "execution_count": 28,
   "metadata": {},
   "outputs": [
    {
     "name": "stdout",
     "output_type": "stream",
     "text": [
      "Shape of BOW vectorizer:  (40000, 24431) (10000, 24431)\n",
      "Number of unique words in 'Tfidf_X_train':  24431\n",
      "Number of unique words in 'Tfidf_X_test':  24431\n"
     ]
    }
   ],
   "source": [
    "tf_idf = TfidfVectorizer()\n",
    "Tfidf_X_train = tf_idf.fit_transform(X_train)\n",
    "Tfidf_X_test = tf_idf.transform(X_test)\n",
    "print(\"Shape of BOW vectorizer: \",Tfidf_X_train.get_shape(), Tfidf_X_test.get_shape())\n",
    "print(\"Number of unique words in 'Tfidf_X_train': \", Tfidf_X_train.get_shape()[1])\n",
    "print(\"Number of unique words in 'Tfidf_X_test': \", Tfidf_X_test.get_shape()[1])"
   ]
  },
  {
   "cell_type": "markdown",
   "metadata": {},
   "source": [
    "**Calling classifier function with \"Tfidf_X_train, y_train, Tfidf_X_test, y_test\" for better K with Highest accuracy for Tfidf data**"
   ]
  },
  {
   "cell_type": "code",
   "execution_count": 132,
   "metadata": {},
   "outputs": [
    {
     "name": "stdout",
     "output_type": "stream",
     "text": [
      "=========================================\n",
      "CV accuracy for k = 1 is 84%\n",
      "=========================================\n",
      "=========================================\n",
      "CV accuracy for k = 3 is 87%\n",
      "=========================================\n",
      "=========================================\n",
      "CV accuracy for k = 5 is 88%\n",
      "=========================================\n",
      "=========================================\n",
      "CV accuracy for k = 7 is 88%\n",
      "=========================================\n",
      "=========================================\n",
      "CV accuracy for k = 9 is 88%\n",
      "=========================================\n",
      "=========================================\n",
      "CV accuracy for k = 11 is 88%\n",
      "=========================================\n"
     ]
    }
   ],
   "source": [
    "best_K_train_test(Tfidf_X_train, y_train, Tfidf_X_test, y_test)"
   ]
  },
  {
   "cell_type": "code",
   "execution_count": 149,
   "metadata": {},
   "outputs": [
    {
     "name": "stdout",
     "output_type": "stream",
     "text": [
      "Grid Search CV Best 'K' Parameter\n",
      "=================================\n",
      "{'n_neighbors': 11}\n"
     ]
    }
   ],
   "source": [
    "Grid_CV(Tfidf_X_train, y_train)"
   ]
  },
  {
   "cell_type": "code",
   "execution_count": 144,
   "metadata": {},
   "outputs": [
    {
     "name": "stdout",
     "output_type": "stream",
     "text": [
      "\n",
      "The optimal number of neighbors is 11.\n"
     ]
    },
    {
     "data": {
      "image/png": "[encoded data removed]",
      "text/plain": [
       "<Figure size 432x288 with 1 Axes>"
      ]
     },
     "metadata": {
      "needs_background": "light"
     },
     "output_type": "display_data"
    },
    {
     "name": "stdout",
     "output_type": "stream",
     "text": [
      "the misclassification error for each k value is :  [0.118 0.111 0.111 0.11  0.11 ]\n",
      "CV Scores:  [0.8815000242262694, 0.8886500042357066, 0.8890500161109097, 0.8895000029868004, 0.8895000311110973]\n"
     ]
    }
   ],
   "source": [
    "crossval_error_plot(Tfidf_X_train, y_train)"
   ]
  },
  {
   "cell_type": "markdown",
   "metadata": {},
   "source": [
    "**Calling CV function with \"Tfidf_X_train, y_train\" for Cross-Validation accuracy On Tfidf Vectorizer**"
   ]
  },
  {
   "cell_type": "code",
   "execution_count": 135,
   "metadata": {},
   "outputs": [
    {
     "name": "stdout",
     "output_type": "stream",
     "text": [
      "K-fold cross validation score of model for k = 3 is :\n",
      "88.86500042357066\n",
      "====================================\n",
      "====================================\n",
      "\n",
      "Correct Classified Data Point:  8826\n",
      "\n",
      "Correct % Classified Data Point:  88.26 %\n",
      "====================================\n",
      "\n",
      "====== Confusion matrix ======= \n",
      "[[ 193 1066]\n",
      " [ 108 8633]]\n",
      "Confusion Matrix\n",
      "==================\n",
      "     0     1\n",
      "0  193  1066\n",
      "1  108  8633\n",
      "==================\n"
     ]
    },
    {
     "data": {
      "image/png": "[encoded data removed]",
      "text/plain": [
       "<Figure size 432x288 with 2 Axes>"
      ]
     },
     "metadata": {
      "needs_background": "light"
     },
     "output_type": "display_data"
    }
   ],
   "source": [
    "classifier = KNeighborsClassifier(n_neighbors=5, algorithm= 'brute')\n",
    "fit_predict_performance_CM_CV(classifier, Tfidf_X_train, y_train, Tfidf_X_test, y_test)"
   ]
  },
  {
   "cell_type": "code",
   "execution_count": 29,
   "metadata": {},
   "outputs": [
    {
     "name": "stdout",
     "output_type": "stream",
     "text": [
      "K-fold cross validation score of model for k = 3 is :\n",
      "88.92250279858315\n",
      "====================================\n",
      "====================================\n",
      "\n",
      "Correct Classified Data Point:  8836\n",
      "\n",
      "Correct % Classified Data Point:  88.36 %\n",
      "====================================\n",
      "\n",
      "====== Confusion matrix ======= \n",
      "[[ 139 1115]\n",
      " [  49 8697]]\n",
      "Confusion Matrix\n",
      "==================\n",
      "     0     1\n",
      "0  139  1115\n",
      "1   49  8697\n",
      "==================\n"
     ]
    },
    {
     "data": {
      "image/png": "[encoded data removed]",
      "text/plain": [
       "<Figure size 432x288 with 2 Axes>"
      ]
     },
     "metadata": {
      "needs_background": "light"
     },
     "output_type": "display_data"
    }
   ],
   "source": [
    "classifier = KNeighborsClassifier(n_neighbors=11, algorithm= 'brute')\n",
    "fit_predict_performance_CM_CV(classifier, Tfidf_X_train, y_train, Tfidf_X_test, y_test)"
   ]
  },
  {
   "cell_type": "markdown",
   "metadata": {},
   "source": [
    "**Top 5 Features in Tfidf**"
   ]
  },
  {
   "cell_type": "code",
   "execution_count": 199,
   "metadata": {},
   "outputs": [],
   "source": [
    "features = tf_idf.get_feature_names()"
   ]
  },
  {
   "cell_type": "code",
   "execution_count": 200,
   "metadata": {},
   "outputs": [
    {
     "data": {
      "text/html": [
       "<div>\n",
       "<style scoped>\n",
       "    .dataframe tbody tr th:only-of-type {\n",
       "        vertical-align: middle;\n",
       "    }\n",
       "\n",
       "    .dataframe tbody tr th {\n",
       "        vertical-align: top;\n",
       "    }\n",
       "\n",
       "    .dataframe thead th {\n",
       "        text-align: right;\n",
       "    }\n",
       "</style>\n",
       "<table border=\"1\" class=\"dataframe\">\n",
       "  <thead>\n",
       "    <tr style=\"text-align: right;\">\n",
       "      <th></th>\n",
       "      <th>feature</th>\n",
       "      <th>tfidf</th>\n",
       "    </tr>\n",
       "  </thead>\n",
       "  <tbody>\n",
       "    <tr>\n",
       "      <th>0</th>\n",
       "      <td>oil</td>\n",
       "      <td>0.422411</td>\n",
       "    </tr>\n",
       "    <tr>\n",
       "      <th>1</th>\n",
       "      <td>coconut</td>\n",
       "      <td>0.362945</td>\n",
       "    </tr>\n",
       "    <tr>\n",
       "      <th>2</th>\n",
       "      <td>earthy</td>\n",
       "      <td>0.275932</td>\n",
       "    </tr>\n",
       "    <tr>\n",
       "      <th>3</th>\n",
       "      <td>nutiva</td>\n",
       "      <td>0.262925</td>\n",
       "    </tr>\n",
       "    <tr>\n",
       "      <th>4</th>\n",
       "      <td>warmer</td>\n",
       "      <td>0.246537</td>\n",
       "    </tr>\n",
       "  </tbody>\n",
       "</table>\n",
       "</div>"
      ],
      "text/plain": [
       "   feature     tfidf\n",
       "0      oil  0.422411\n",
       "1  coconut  0.362945\n",
       "2   earthy  0.275932\n",
       "3   nutiva  0.262925\n",
       "4   warmer  0.246537"
      ]
     },
     "execution_count": 200,
     "metadata": {},
     "output_type": "execute_result"
    }
   ],
   "source": [
    "# source: https://buhrmann.github.io/tfidf-analysis.html\n",
    "def top_tfidf_feats(row, features, top_n=5):\n",
    "    ''' Get top n tfidf values in row and return them with their corresponding feature names.'''\n",
    "    topn_ids = np.argsort(row)[::-1][:top_n]\n",
    "    top_feats = [(features[i], row[i]) for i in topn_ids]\n",
    "    df = pd.DataFrame(top_feats)\n",
    "    df.columns = ['feature', 'tfidf']\n",
    "    return df\n",
    "\n",
    "top_tfidf = top_tfidf_feats(tf_idf_matrix_train[1,:].toarray()[0],features,5)\n",
    "top_tfidf"
   ]
  },
  {
   "cell_type": "markdown",
   "metadata": {},
   "source": [
    "**==================================================================================================================================**\n",
    "\n",
    "**TFiDf KNN Observation:**\n",
    "    \n",
    "1] After implenting with Tfidf, our classification seems to work better.\n",
    "\n",
    "K with Running different model with different K, 5 with Error plot ans 11 with Grid SearchCv came out be Optimal K.\n",
    "\n",
    "2] After implementing KNN with different algorithmson Tfidf we can observe that --5-- came out to be optimal K value to implement KNN on Tfidf with Highest Accuracy with CV, i.e: 88%\n",
    "\n",
    "3] Model on Cross validation data have approx equal Accuracy to Test data that is 88%\n",
    "\n",
    "3] KNN is working well compare to Test implementation that is almost approx to CV accuracy where,\n",
    "\n",
    "\n",
    "CV Accuracy = 88.9%  With K(CV) = 3\n",
    "\n",
    "Test Accuracy With K = 5 is 88.5 % Where K = 11 have 88.4% Accuracy that is not much of difference and It is better to Choose K = 11 for Tfidf as K = 11 have .10 more accuracy.\n",
    "\n",
    "So It seems that our Tfidf KNN is working as approx same as Bow Model with give K and CV and test data accuracy have approx same.\n",
    "\n",
    "As we can observe, Here on Confusion matrix 8836 points out of 10000 from test Data has been classified correctly but Most Data have been classified to Positive and still have 88% of accuracy that explains the variation on Imbalanced Data in our dataset sample and Model have biased but classification of Correct points are better than BoW model.\n",
    "\n",
    "\n",
    "**==================================================================================================================================**"
   ]
  },
  {
   "cell_type": "markdown",
   "metadata": {},
   "source": [
    "# Tfidf Word2Vec KNN"
   ]
  },
  {
   "cell_type": "markdown",
   "metadata": {},
   "source": [
    "### Word2Vec"
   ]
  },
  {
   "cell_type": "code",
   "execution_count": 83,
   "metadata": {},
   "outputs": [],
   "source": [
    "# Train your own Word2Vec model using your own text corpus\n",
    "i=0\n",
    "list_of_sent=[]\n",
    "for sent in X_train[:]:\n",
    "    list_of_sent.append(sent.split())"
   ]
  },
  {
   "cell_type": "code",
   "execution_count": 84,
   "metadata": {},
   "outputs": [],
   "source": [
    "# Train your own Word2Vec model using your own text corpus\n",
    "i=0\n",
    "list_of_sent_test=[]\n",
    "for sent in X_test[:]:\n",
    "    list_of_sent_test.append(sent.split())"
   ]
  },
  {
   "cell_type": "code",
   "execution_count": 85,
   "metadata": {},
   "outputs": [
    {
     "name": "stdout",
     "output_type": "stream",
     "text": [
      "['fan', 'anna', 'cooki', 'year', 'ginger', 'long', 'favorit', 'saw', 'price', 'jump', 'fast', 'shipment', 'arriv', 'day', 'aw', 'slow', 'huge', 'compani', 'imo', 'cooki', 'appear', 'littl', 'case', 'howev', 'open', 'find', 'everi', 'box', 'twelv', 'contain', 'cooki', 'crumbl', 'one', 'singl', 'cooki', 'shipment', 'arriv', 'guess', 'crumbl', 'ice', 'cream', 'etc', 'definit', 'wed', 'want', 'return', 'well', 'see', 'amazon', 'handl']\n"
     ]
    }
   ],
   "source": [
    "print(list_of_sent[0])"
   ]
  },
  {
   "cell_type": "code",
   "execution_count": 86,
   "metadata": {},
   "outputs": [
    {
     "name": "stdout",
     "output_type": "stream",
     "text": [
      "number of words that occured minimum 10 times  5863\n",
      "\n",
      "sample words: ['fan', 'anna', 'cooki', 'year', 'ginger', 'long', 'favorit', 'saw', 'price', 'jump', 'fast', 'shipment', 'arriv', 'day', 'aw', 'slow', 'huge', 'compani', 'imo', 'appear', 'littl', 'case', 'howev', 'open', 'find', 'everi', 'box', 'twelv', 'contain', 'crumbl', 'one', 'singl', 'guess', 'ice', 'cream', 'etc', 'definit', 'wed', 'want', 'return', 'well', 'see', 'amazon', 'handl', 'good', 'weight', 'watcher', 'point', 'problem', 'eat']\n"
     ]
    }
   ],
   "source": [
    "# min_count = 10 considers only words that occured atleast 5 times\n",
    "w2v_model=Word2Vec(list_of_sent, min_count= 10 ,size = 100, workers=4)\n",
    "w2v_words = list(w2v_model.wv.vocab)\n",
    "print(\"number of words that occured minimum 10 times \",len(w2v_words))\n",
    "print(\"\\nsample words:\", w2v_words[0:50])"
   ]
  },
  {
   "cell_type": "code",
   "execution_count": 87,
   "metadata": {},
   "outputs": [
    {
     "data": {
      "text/plain": [
       "array([ 0.7566558 ,  0.05582335, -0.21168014,  0.29660273, -0.13402812,\n",
       "       -0.1571906 ,  0.81666124, -2.0157785 , -0.14808565, -0.05638735,\n",
       "       -1.8169278 ,  0.5139286 ,  0.22739509,  1.6457512 ,  0.56044245,\n",
       "        0.74311817, -0.17936611, -2.1267653 ,  0.29080933, -0.44769543,\n",
       "        0.70414215,  0.8826104 ,  0.43633258,  0.7596565 ,  0.65430856,\n",
       "       -0.13248336, -0.5315567 , -0.637664  ,  0.00996353,  1.1952977 ,\n",
       "       -1.0876347 ,  1.0698818 ,  0.39878088,  0.8407998 ,  0.27489617,\n",
       "       -0.45795345, -0.811475  ,  0.24599382,  0.9110746 , -0.21112412,\n",
       "       -0.21914724, -1.4238362 , -0.3610667 , -0.7220125 , -0.84148467,\n",
       "        1.2702057 ,  1.7386872 ,  0.19145446, -0.01335275, -0.23065695,\n",
       "        0.68400985,  0.98779875,  1.6172587 ,  0.1966966 , -0.69406253,\n",
       "       -0.95485705,  0.17740451, -0.90640235,  1.4001609 ,  0.53247476,\n",
       "       -0.8613349 ,  0.29762223, -0.67811143,  0.70464134, -0.3809917 ,\n",
       "        0.57945013,  0.06945298, -0.26778647, -0.8605135 , -1.4865806 ,\n",
       "        0.6871815 ,  1.686952  , -0.37705663,  0.89687896,  0.23020133,\n",
       "        0.23870093,  0.3061292 , -0.28125778, -0.7000057 ,  0.6140273 ,\n",
       "        1.0478351 , -1.0901041 ,  0.82048553, -0.97837543, -0.52247655,\n",
       "        0.5206822 ,  0.20192839, -0.3265279 , -1.6958178 , -0.12073579,\n",
       "        0.02519113,  0.14790215, -0.5171781 ,  0.3378998 , -0.07255675,\n",
       "       -0.2944067 , -0.5478252 ,  0.3679309 ,  0.2872575 ,  0.1140885 ],\n",
       "      dtype=float32)"
      ]
     },
     "execution_count": 87,
     "metadata": {},
     "output_type": "execute_result"
    }
   ],
   "source": [
    "w2v_model.wv['love']"
   ]
  },
  {
   "cell_type": "markdown",
   "metadata": {},
   "source": [
    "**With a dataset this large, its difficult to make an easy-to-read TSNE visualization. So we can use the model to look up the most similar words from any given point.**"
   ]
  },
  {
   "cell_type": "code",
   "execution_count": 88,
   "metadata": {},
   "outputs": [
    {
     "data": {
      "text/plain": [
       "[('feed', 0.5551376342773438),\n",
       " ('pet', 0.5261924266815186),\n",
       " ('evo', 0.5261885523796082),\n",
       " ('innova', 0.5057865977287292),\n",
       " ('grain', 0.49293792247772217),\n",
       " ('anim', 0.49089953303337097),\n",
       " ('newman', 0.4905160069465637),\n",
       " ('nutro', 0.4878898859024048),\n",
       " ('evolut', 0.4782896637916565),\n",
       " ('finicki', 0.474841833114624)]"
      ]
     },
     "execution_count": 88,
     "metadata": {},
     "output_type": "execute_result"
    }
   ],
   "source": [
    "w2v_model.most_similar('food')"
   ]
  },
  {
   "cell_type": "code",
   "execution_count": 89,
   "metadata": {},
   "outputs": [
    {
     "data": {
      "text/plain": [
       "[('purchas', 0.7935301065444946),\n",
       " ('sell', 0.6783775687217712),\n",
       " ('order', 0.6632588505744934),\n",
       " ('pay', 0.6117270588874817),\n",
       " ('sold', 0.5956789255142212),\n",
       " ('stock', 0.5766605138778687),\n",
       " ('bought', 0.5636247396469116),\n",
       " ('save', 0.5580421686172485),\n",
       " ('reorder', 0.5364304780960083),\n",
       " ('carri', 0.5224781632423401)]"
      ]
     },
     "execution_count": 89,
     "metadata": {},
     "output_type": "execute_result"
    }
   ],
   "source": [
    "w2v_model.most_similar('buy')"
   ]
  },
  {
   "cell_type": "markdown",
   "metadata": {},
   "source": [
    "## Tfidf W2V KNN"
   ]
  },
  {
   "cell_type": "markdown",
   "metadata": {},
   "source": [
    "**Creating Tfidf for Word 2 Vector, Creating dictionary with each word as key and values as its vector and computed tfidf.**"
   ]
  },
  {
   "cell_type": "code",
   "execution_count": 90,
   "metadata": {},
   "outputs": [],
   "source": [
    "model = TfidfVectorizer()\n",
    "tf_idf_matrix_train = model.fit_transform(X_train)\n",
    "tf_idf_matrix_test = model.transform(X_test)\n",
    "# we are converting a dictionary with word as a key, and the idf as a value\n",
    "dictionary = dict(zip(model.get_feature_names(), list(model.idf_)))"
   ]
  },
  {
   "cell_type": "markdown",
   "metadata": {},
   "source": [
    "**Creating Vector of Train data using W2V Model**"
   ]
  },
  {
   "cell_type": "code",
   "execution_count": 91,
   "metadata": {},
   "outputs": [],
   "source": [
    "tfidf_feat = model.get_feature_names()\n",
    "# average Word2Vec\n",
    "# compute average word2vec for each review in train data\n",
    "\n",
    "tfidf_sent_vectors_train = []; # the tfidf-w2v for each sentence/review is stored in this list\n",
    "row=0;\n",
    "for sent in list_of_sent: # for each review/sentence \n",
    "    sent_vec = np.zeros(100) # as word vectors are of zero length\n",
    "    weight_sum =0; # num of words with a valid vector in the sentence/review\n",
    "    for word in sent: # for each word in a review/sentence\n",
    "        if word in w2v_words:\n",
    "            vec = w2v_model.wv[word]\n",
    "            # obtain the tf_idfidf of a word in a sentence/review\n",
    "            Tf_idf_w2v_train = dictionary[word]*sent.count(word)\n",
    "            #Tf_idf_w2v_train = Tfidf_X_train[row, tf_idf.get_feature_names().index(word)]\n",
    "            sent_vec += (vec * Tf_idf_w2v_train)\n",
    "            weight_sum += Tf_idf_w2v_train\n",
    "    if weight_sum != 0:\n",
    "        sent_vec /= weight_sum\n",
    "    tfidf_sent_vectors_train.append(sent_vec)\n",
    "    row += 1"
   ]
  },
  {
   "cell_type": "markdown",
   "metadata": {},
   "source": [
    "**Creating Vector of Train data using W2V Model**"
   ]
  },
  {
   "cell_type": "code",
   "execution_count": 92,
   "metadata": {},
   "outputs": [],
   "source": [
    "# average Word2Vec\n",
    "# compute average word2vec for each review in test data\n",
    "\n",
    "tfidf_sent_vectors_test = []; # the tfidf-w2v for each sentence/review is stored in this list\n",
    "row=0;\n",
    "for sent in list_of_sent_test: # for each review/sentence \n",
    "    sent_vec = np.zeros(100) # as word vectors are of zero length\n",
    "    weight_sum =0; # num of words with a valid vector in the sentence/review\n",
    "    for word in sent: # for each word in a review/sentence\n",
    "        if word in w2v_words:\n",
    "            vec = w2v_model.wv[word]\n",
    "            # obtain the tf_idfidf of a word in a sentence/review\n",
    "            Tf_idf_w2v_test = dictionary[word]*sent.count(word)\n",
    "            sent_vec += (vec * Tf_idf_w2v_test)\n",
    "            weight_sum += Tf_idf_w2v_test\n",
    "    if weight_sum != 0:\n",
    "        sent_vec /= weight_sum\n",
    "    tfidf_sent_vectors_test.append(sent_vec)\n",
    "    row += 1"
   ]
  },
  {
   "cell_type": "markdown",
   "metadata": {},
   "source": [
    "**W2V vectorizer Matrix for further analysis**"
   ]
  },
  {
   "cell_type": "code",
   "execution_count": 93,
   "metadata": {},
   "outputs": [],
   "source": [
    "tfidfw2v_train = tfidf_sent_vectors_train\n",
    "tfidfw2v_test = tfidf_sent_vectors_test"
   ]
  },
  {
   "cell_type": "markdown",
   "metadata": {},
   "source": [
    "**Calling classifier function with \"tfidfw2v_train, y_train, tfidfw2v_test, y_test\" for better K with Highest accuracy for W2V tfidf**"
   ]
  },
  {
   "cell_type": "code",
   "execution_count": 138,
   "metadata": {},
   "outputs": [
    {
     "name": "stdout",
     "output_type": "stream",
     "text": [
      "=========================================\n",
      "CV accuracy for k = 1 is 83%\n",
      "=========================================\n",
      "=========================================\n",
      "CV accuracy for k = 3 is 86%\n",
      "=========================================\n",
      "=========================================\n",
      "CV accuracy for k = 5 is 87%\n",
      "=========================================\n",
      "=========================================\n",
      "CV accuracy for k = 7 is 88%\n",
      "=========================================\n",
      "=========================================\n",
      "CV accuracy for k = 9 is 88%\n",
      "=========================================\n",
      "=========================================\n",
      "CV accuracy for k = 11 is 88%\n",
      "=========================================\n"
     ]
    }
   ],
   "source": [
    "best_K_train_test(tfidfw2v_train, y_train, tfidfw2v_test, y_test)"
   ]
  },
  {
   "cell_type": "code",
   "execution_count": 139,
   "metadata": {},
   "outputs": [
    {
     "name": "stdout",
     "output_type": "stream",
     "text": [
      "Grid Search CV Best 'K' Parameter\n",
      "=================================\n",
      "{'n_neighbors': 11}\n"
     ]
    }
   ],
   "source": [
    "Grid_CV(tfidfw2v_train, y_train)"
   ]
  },
  {
   "cell_type": "code",
   "execution_count": 145,
   "metadata": {},
   "outputs": [
    {
     "name": "stdout",
     "output_type": "stream",
     "text": [
      "\n",
      "The optimal number of neighbors is 11.\n"
     ]
    },
    {
     "data": {
      "image/png": "[encoded data removed]",
      "text/plain": [
       "<Figure size 432x288 with 1 Axes>"
      ]
     },
     "metadata": {
      "needs_background": "light"
     },
     "output_type": "display_data"
    },
    {
     "name": "stdout",
     "output_type": "stream",
     "text": [
      "the misclassification error for each k value is :  [0.125 0.116 0.111 0.11  0.109]\n",
      "CV Scores:  [0.8754000460930977, 0.8844250261048786, 0.8887249779864567, 0.8901999698635034, 0.8907749711141908]\n"
     ]
    }
   ],
   "source": [
    "crossval_error_plot(tfidfw2v_train, y_train)"
   ]
  },
  {
   "cell_type": "code",
   "execution_count": 140,
   "metadata": {},
   "outputs": [
    {
     "name": "stdout",
     "output_type": "stream",
     "text": [
      "K-fold cross validation score of model for k = 3 is :\n",
      "88.87249779864567\n",
      "====================================\n",
      "====================================\n",
      "\n",
      "Correct Classified Data Point:  8821\n",
      "\n",
      "Correct % Classified Data Point:  88.21 %\n",
      "====================================\n",
      "\n",
      "====== Confusion matrix ======= \n",
      "[[ 239 1020]\n",
      " [ 159 8582]]\n",
      "Confusion Matrix\n",
      "==================\n",
      "     0     1\n",
      "0  239  1020\n",
      "1  159  8582\n",
      "==================\n"
     ]
    },
    {
     "data": {
      "image/png": "[encoded data removed]",
      "text/plain": [
       "<Figure size 432x288 with 2 Axes>"
      ]
     },
     "metadata": {
      "needs_background": "light"
     },
     "output_type": "display_data"
    }
   ],
   "source": [
    "classifier = KNeighborsClassifier(n_neighbors=7, algorithm= 'brute')\n",
    "fit_predict_performance_CM_CV(classifier, tfidfw2v_train, y_train, tfidfw2v_test, y_test)"
   ]
  },
  {
   "cell_type": "code",
   "execution_count": 141,
   "metadata": {},
   "outputs": [
    {
     "name": "stdout",
     "output_type": "stream",
     "text": [
      "K-fold cross validation score of model for k = 3 is :\n",
      "89.07749711141908\n",
      "====================================\n",
      "====================================\n",
      "\n",
      "Correct Classified Data Point:  8844\n",
      "\n",
      "Correct % Classified Data Point:  88.44 %\n",
      "====================================\n",
      "\n",
      "====== Confusion matrix ======= \n",
      "[[ 209 1050]\n",
      " [ 106 8635]]\n",
      "Confusion Matrix\n",
      "==================\n",
      "     0     1\n",
      "0  209  1050\n",
      "1  106  8635\n",
      "==================\n"
     ]
    },
    {
     "data": {
      "image/png": "[encoded data removed]",
      "text/plain": [
       "<Figure size 432x288 with 2 Axes>"
      ]
     },
     "metadata": {
      "needs_background": "light"
     },
     "output_type": "display_data"
    }
   ],
   "source": [
    "classifier = KNeighborsClassifier(n_neighbors=11, algorithm= 'brute')\n",
    "fit_predict_performance_CM_CV(classifier, tfidfw2v_train, y_train, tfidfw2v_test, y_test)"
   ]
  },
  {
   "cell_type": "markdown",
   "metadata": {},
   "source": [
    "**==================================================================================================================================**\n",
    "\n",
    "**TFiDf-W2V KNN Observation:**\n",
    "    \n",
    "1] After Computing W2V for train and test data on Tfidf with Size = 100 where Threshold for word to be in Review is 10.\n",
    "\n",
    "K with Running different model with different K, 7 with Error plot wof CV and 11 with Grid SearchCv came out be Optimal K.\n",
    "\n",
    "2] After implementing KNN with different algorithms on TfidfW2V we can observe that 11 turn out to be optimal K value to implement KNN on Tfidf with Avg W2V using GridSearchCV.\n",
    "\n",
    "3] KNN is working well compare to Test implementation than CV accuracy where,\n",
    "\n",
    "CV Accuracy = 89% With K(CV) = 3\n",
    "\n",
    "Test Accuracy With K = 7 is 88.21 % Where K = 11 have 88.4% Accuracy that is not much of difference between K and It is better to Choose K = 11 for Tfidf as K = 11 have .20 more accuracy.\n",
    "\n",
    "As we can observe, Here on Confusion matrix 8844 points out of 10000 from test Data has been classified correctly but Most Data have been classified to Positive and still have 88.44% of accuracy that explains the variation on Imbalanced Data in our dataset sample and Model have biased but classification of Correct points are better than BoW/Tfidf model.\n",
    "\n",
    "**==================================================================================================================================**"
   ]
  },
  {
   "cell_type": "code",
   "execution_count": null,
   "metadata": {},
   "outputs": [],
   "source": []
  }
 ],
 "metadata": {
  "kernelspec": {
   "display_name": "Python 3",
   "language": "python",
   "name": "python3"
  },
  "language_info": {
   "codemirror_mode": {
    "name": "ipython",
    "version": 3
   },
   "file_extension": ".py",
   "mimetype": "text/x-python",
   "name": "python",
   "nbconvert_exporter": "python",
   "pygments_lexer": "ipython3",
   "version": "3.6.6"
  }
 },
 "nbformat": 4,
 "nbformat_minor": 2
}
